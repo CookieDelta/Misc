{
 "cells": [
  {
   "cell_type": "markdown",
   "metadata": {},
   "source": [
    "# Total Raffles Prediction\n",
    "\n",
    "A few days ago, at school I received the raffle results, and I wondered how many raffles did the school make, and as I'm always curious about where you can apply statistics/data science stuff, I remembered the german tank problem, where Allies tried to estimate the total number of tanks by using the serial numbers of the parts of tanks they've destroyed, so I thought why not give it a try and estimate the \"population\" or total number of raffles that the school did, based on the \"serial numbers\" of the 20 winners. I pasted the image below this so you can see the relevant info (winners info is hidden because is not the scope of this exercise)\n",
    "\n",
    "PS: Rifa = raffle\n",
    "\n",
    "<!--\n",
    "![raf_raw](images/raffle_c318237d-10dc-4731-bcb4-2bb05884f234.jpg)\n",
    "-->\n",
    "<img src=\"images/raffle_c318237d-10dc-4731-bcb4-2bb05884f234.jpg\" alt=\"raf_raw\" width=500>\n",
    "\n",
    "As you can see, there is a total number of 20 winners, each one with a raffle N°, let's get to work and estimate the total number of raffles done by the school."
   ]
  },
  {
   "cell_type": "code",
   "execution_count": 3,
   "metadata": {},
   "outputs": [],
   "source": [
    "import numpy as np\n",
    "import seaborn as sns\n",
    "import pandas as pd\n",
    "import matplotlib.pyplot as plt"
   ]
  },
  {
   "cell_type": "markdown",
   "metadata": {},
   "source": [
    "After importing the needed libraries, I created a list with the raffle numbers"
   ]
  },
  {
   "cell_type": "code",
   "execution_count": 4,
   "metadata": {},
   "outputs": [
    {
     "data": {
      "text/plain": [
       "20"
      ]
     },
     "execution_count": 4,
     "metadata": {},
     "output_type": "execute_result"
    }
   ],
   "source": [
    "raf_list = [38, 334, 145, 322, 752, 123, 596, 629, 635, 753, 596, 731, 13, 732, 252, 382, 674, 181, 477, 846]\n",
    "len(raf_list) #just to make sure i copied them all"
   ]
  },
  {
   "cell_type": "markdown",
   "metadata": {},
   "source": [
    "Now, having the list, the estimation is pretty straightforward as you can estimate it by mean or by variance, being the first one formula as it follows:\n",
    "\n",
    " $$\n",
    "   \\mu = \\frac{a + b}{2}\n",
    "   $$\n",
    "   Where:  \n",
    "- \\(mu \\) = mean of the population  \n",
    "- \\( a \\) = first raffle serial number (we assume it is 1)  \n",
    "- \\( b \\) = estimate of the higher raffle value  \n",
    " \n",
    " And for the variance, the formula is this one:\n",
    "\n",
    " $$\n",
    "\\sigma^2 = \\frac{(b - a)^2}{12}\n",
    "$$\n",
    "   Where:  \n",
    "- \\(sigma^2 \\) = variance of the population  \n",
    "- \\( a \\) = first raffle serial number (we assume it is 1)  \n",
    "- \\( b \\) = estimate of the higher raffle value  \n",
    "\n",
    "### Estimating by mean:\n",
    "\n",
    "We need to rearrange the formula letting *b* be the unknown\n",
    "   $$\n",
    "   b = 2 \\cdot \\mu - a\n",
    "   $$"
   ]
  },
  {
   "cell_type": "code",
   "execution_count": 5,
   "metadata": {},
   "outputs": [
    {
     "name": "stdout",
     "output_type": "stream",
     "text": [
      "The total number of raffles, by mean is 920.1\n"
     ]
    }
   ],
   "source": [
    "raf_mean = np.mean(raf_list)\n",
    "b_estimation_mean = 2*raf_mean-1\n",
    "print(\"The total number of raffles, by mean is {}\".format(b_estimation_mean))"
   ]
  },
  {
   "cell_type": "markdown",
   "metadata": {},
   "source": [
    "### Estimating by variance:\n",
    "\n",
    "Again, we need to rearrange the formulam, isolating *b* (maybe this one is a little tricky to do mentally, I used pen and paper to solve for *b*)\n",
    "\n",
    "The formula is as follows:\n",
    "\n",
    "$$\n",
    "b = \\sqrt{12 \\cdot \\sigma^2} + a\n",
    "$$\n",
    "\n"
   ]
  },
  {
   "cell_type": "code",
   "execution_count": 6,
   "metadata": {},
   "outputs": [
    {
     "name": "stdout",
     "output_type": "stream",
     "text": [
      "The total number of raffles, estimated by variance is 905.2\n"
     ]
    }
   ],
   "source": [
    "raf_var = np.var(raf_list)\n",
    "b_estimation_var = round(np.sqrt(12*raf_var)+1,1)\n",
    "print(\"The total number of raffles, estimated by variance is {}\".format(b_estimation_var))"
   ]
  },
  {
   "cell_type": "markdown",
   "metadata": {},
   "source": [
    "So now, we have 920 and 905 as the estimations, but as we have 20 elements to play with, we can make iterations taking random samples of the list, to see where does those iterations converge to."
   ]
  },
  {
   "cell_type": "code",
   "execution_count": 7,
   "metadata": {},
   "outputs": [],
   "source": [
    "#we'll set the iterations and items taken per iteration as a variables, so we can tweak it\n",
    "iterations = 500\n",
    "items_taken = 5\n",
    "\n",
    "\n",
    "#empty lists for our results\n",
    "mean_estimations = []\n",
    "var_estimations = []\n",
    "\n",
    "#let's attack the problem by pieces\n",
    "#this lines will be commented after all works\n",
    "# #first, we need to get items_taken from the raf_list for the estimation\n",
    "\n",
    "# sample = np.random.choice(raf_list, size=items_taken, replace=True) \n",
    "# #This function will get \"items_taken\" number of numbers and will return them to the list for the next iteration\n",
    "\n",
    "# #now, as we picked the items, we need to get the mean and variance for each sample\n",
    "# sample_mean = np.mean(sample)\n",
    "# sample_variance = np.var(sample)\n",
    "\n",
    "# #all good, now get the estimations by mean and variance\n",
    "# esm = 2*sample_mean-1 #esm stands for estimations by sample mean\n",
    "# esv =  round(np.sqrt(12*sample_variance)+1,1) ##esv stands for estimations by sample variance\n",
    "\n",
    "# #and now append them to the corresponding list\n",
    "# mean_estimations.append(esm)\n",
    "# var_estimations.append(esv)\n",
    "\n",
    "# #all good to go, now we wrap it into a for loop\n",
    "\n",
    "for iteration in range(iterations):\n",
    "    sample = np.random.choice(raf_list, size=items_taken, replace=True)\n",
    "    sample_mean = np.mean(sample)\n",
    "    sample_variance = np.var(sample, ddof=1) #Delta Degrees of freedom is set to 1 to correct the divisor, \n",
    "                                             #being N-1 as we work with a sample, not the toal population\n",
    "                                             #Known as the Bessel's correction (I learned it while doing this)\n",
    "    esm = 2*sample_mean-1 #esm stands for estimations by sample mean\n",
    "    esv =  round(np.sqrt(12*sample_variance)+1,1) ##esv stands for estimations by sample variance\n",
    "    mean_estimations.append(esm)\n",
    "    var_estimations.append(esv)"
   ]
  },
  {
   "cell_type": "code",
   "execution_count": 8,
   "metadata": {},
   "outputs": [
    {
     "data": {
      "text/plain": [
       "[np.float64(1077.2),\n",
       " np.float64(1227.7),\n",
       " np.float64(973.3),\n",
       " np.float64(616.6),\n",
       " np.float64(594.9),\n",
       " np.float64(929.2),\n",
       " np.float64(1111.4),\n",
       " np.float64(610.4),\n",
       " np.float64(1030.3),\n",
       " np.float64(821.1),\n",
       " np.float64(903.8),\n",
       " np.float64(528.6),\n",
       " np.float64(714.9),\n",
       " np.float64(950.1),\n",
       " np.float64(1050.3)]"
      ]
     },
     "execution_count": 8,
     "metadata": {},
     "output_type": "execute_result"
    }
   ],
   "source": [
    "var_estimations[0:15]"
   ]
  },
  {
   "cell_type": "markdown",
   "metadata": {},
   "source": [
    "<img src=\"images/Fr_TBNWWwAcuaos.jpg\" alt=\"IS WORKING!\" width=500>"
   ]
  },
  {
   "cell_type": "code",
   "execution_count": 8,
   "metadata": {},
   "outputs": [],
   "source": [
    "#Lets create a DF with our results\n",
    "summary = pd.DataFrame({'Mean Estimations':mean_estimations,'Variance Estimations':var_estimations})"
   ]
  },
  {
   "cell_type": "code",
   "execution_count": 9,
   "metadata": {},
   "outputs": [
    {
     "data": {
      "text/html": [
       "<div>\n",
       "<style scoped>\n",
       "    .dataframe tbody tr th:only-of-type {\n",
       "        vertical-align: middle;\n",
       "    }\n",
       "\n",
       "    .dataframe tbody tr th {\n",
       "        vertical-align: top;\n",
       "    }\n",
       "\n",
       "    .dataframe thead th {\n",
       "        text-align: right;\n",
       "    }\n",
       "</style>\n",
       "<table border=\"1\" class=\"dataframe\">\n",
       "  <thead>\n",
       "    <tr style=\"text-align: right;\">\n",
       "      <th></th>\n",
       "      <th>Mean Estimations</th>\n",
       "      <th>Variance Estimations</th>\n",
       "    </tr>\n",
       "  </thead>\n",
       "  <tbody>\n",
       "    <tr>\n",
       "      <th>495</th>\n",
       "      <td>961.4</td>\n",
       "      <td>1029.4</td>\n",
       "    </tr>\n",
       "    <tr>\n",
       "      <th>496</th>\n",
       "      <td>1259.4</td>\n",
       "      <td>615.1</td>\n",
       "    </tr>\n",
       "    <tr>\n",
       "      <th>497</th>\n",
       "      <td>1136.2</td>\n",
       "      <td>498.1</td>\n",
       "    </tr>\n",
       "    <tr>\n",
       "      <th>498</th>\n",
       "      <td>965.8</td>\n",
       "      <td>808.5</td>\n",
       "    </tr>\n",
       "    <tr>\n",
       "      <th>499</th>\n",
       "      <td>1217.4</td>\n",
       "      <td>669.2</td>\n",
       "    </tr>\n",
       "  </tbody>\n",
       "</table>\n",
       "</div>"
      ],
      "text/plain": [
       "     Mean Estimations  Variance Estimations\n",
       "495             961.4                1029.4\n",
       "496            1259.4                 615.1\n",
       "497            1136.2                 498.1\n",
       "498             965.8                 808.5\n",
       "499            1217.4                 669.2"
      ]
     },
     "execution_count": 9,
     "metadata": {},
     "output_type": "execute_result"
    }
   ],
   "source": [
    "summary.tail()"
   ]
  },
  {
   "cell_type": "code",
   "execution_count": 10,
   "metadata": {},
   "outputs": [
    {
     "data": {
      "text/html": [
       "<div>\n",
       "<style scoped>\n",
       "    .dataframe tbody tr th:only-of-type {\n",
       "        vertical-align: middle;\n",
       "    }\n",
       "\n",
       "    .dataframe tbody tr th {\n",
       "        vertical-align: top;\n",
       "    }\n",
       "\n",
       "    .dataframe thead th {\n",
       "        text-align: right;\n",
       "    }\n",
       "</style>\n",
       "<table border=\"1\" class=\"dataframe\">\n",
       "  <thead>\n",
       "    <tr style=\"text-align: right;\">\n",
       "      <th></th>\n",
       "      <th>Mean Estimations</th>\n",
       "      <th>Variance Estimations</th>\n",
       "    </tr>\n",
       "  </thead>\n",
       "  <tbody>\n",
       "    <tr>\n",
       "      <th>count</th>\n",
       "      <td>500.000000</td>\n",
       "      <td>500.000000</td>\n",
       "    </tr>\n",
       "    <tr>\n",
       "      <th>mean</th>\n",
       "      <td>941.105600</td>\n",
       "      <td>852.670800</td>\n",
       "    </tr>\n",
       "    <tr>\n",
       "      <th>std</th>\n",
       "      <td>234.759395</td>\n",
       "      <td>242.029877</td>\n",
       "    </tr>\n",
       "    <tr>\n",
       "      <th>min</th>\n",
       "      <td>261.400000</td>\n",
       "      <td>101.100000</td>\n",
       "    </tr>\n",
       "    <tr>\n",
       "      <th>25%</th>\n",
       "      <td>778.900000</td>\n",
       "      <td>733.025000</td>\n",
       "    </tr>\n",
       "    <tr>\n",
       "      <th>50%</th>\n",
       "      <td>962.000000</td>\n",
       "      <td>882.600000</td>\n",
       "    </tr>\n",
       "    <tr>\n",
       "      <th>75%</th>\n",
       "      <td>1110.000000</td>\n",
       "      <td>1014.425000</td>\n",
       "    </tr>\n",
       "    <tr>\n",
       "      <th>max</th>\n",
       "      <td>1493.000000</td>\n",
       "      <td>1405.100000</td>\n",
       "    </tr>\n",
       "  </tbody>\n",
       "</table>\n",
       "</div>"
      ],
      "text/plain": [
       "       Mean Estimations  Variance Estimations\n",
       "count        500.000000            500.000000\n",
       "mean         941.105600            852.670800\n",
       "std          234.759395            242.029877\n",
       "min          261.400000            101.100000\n",
       "25%          778.900000            733.025000\n",
       "50%          962.000000            882.600000\n",
       "75%         1110.000000           1014.425000\n",
       "max         1493.000000           1405.100000"
      ]
     },
     "execution_count": 10,
     "metadata": {},
     "output_type": "execute_result"
    }
   ],
   "source": [
    "summary.describe()"
   ]
  },
  {
   "cell_type": "markdown",
   "metadata": {},
   "source": [
    "omg this is beautiful, if you are reading this, I hope you share my joy of having something that works.\n",
    "\n",
    "Now we just have to plot everything to see where they converge"
   ]
  },
  {
   "cell_type": "code",
   "execution_count": 12,
   "metadata": {},
   "outputs": [
    {
     "data": {
      "text/plain": [
       "<matplotlib.legend.Legend at 0x1497feebc50>"
      ]
     },
     "execution_count": 12,
     "metadata": {},
     "output_type": "execute_result"
    },
    {
     "data": {
      "image/png": "[encoded data removed]",
      "text/plain": [
       "<Figure size 800x300 with 1 Axes>"
      ]
     },
     "metadata": {},
     "output_type": "display_data"
    }
   ],
   "source": [
    "plt.figure(figsize=(8, 3)) #create the plot object\n",
    "sns.histplot(summary[\"Mean Estimations\"], color=\"b\", label=\"Mean Method\", kde=True, alpha=0.5, bins=30)\n",
    "sns.histplot(summary[\"Variance Estimations\"], color=\"r\", label=\"Variance Method\", kde=True, alpha=0.5, bins=30)\n",
    "\n",
    "plt.title(\"Distribution of Maximum Raffle Number Estimates\")\n",
    "plt.xlabel(\"Estimated Maximum\")\n",
    "plt.ylabel(\"Frequency\")\n",
    "plt.legend()"
   ]
  },
  {
   "cell_type": "markdown",
   "metadata": {},
   "source": [
    "So finally, I can say that with the parameters given, the **total number of raffles given by the school is between 852 and 941** \n",
    "\n",
    "Now, i can go to sleep in peace as i got my answer, but first I'll make myself a well deserved coffee\n",
    "\n",
    "Felipe Gallegos"
   ]
  }
 ],
 "metadata": {
  "kernelspec": {
   "display_name": "Python 3",
   "language": "python",
   "name": "python3"
  },
  "language_info": {
   "codemirror_mode": {
    "name": "ipython",
    "version": 3
   },
   "file_extension": ".py",
   "mimetype": "text/x-python",
   "name": "python",
   "nbconvert_exporter": "python",
   "pygments_lexer": "ipython3",
   "version": "3.11.9"
  }
 },
 "nbformat": 4,
 "nbformat_minor": 2
}
